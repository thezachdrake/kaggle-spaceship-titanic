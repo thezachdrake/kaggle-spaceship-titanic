{
 "cells": [
  {
   "cell_type": "code",
   "execution_count": 9,
   "metadata": {},
   "outputs": [
    {
     "data": {
      "text/plain": [
       "8"
      ]
     },
     "metadata": {},
     "output_type": "display_data"
    }
   ],
   "source": [
    "using Missings\n",
    "using StatsKit\n",
    "using MLJ\n",
    "import AlgebraOfGraphics as AOG\n",
    "using CairoMakie\n",
    "\n",
    "set_theme!(theme_dark())\n",
    "ENV[\"DATAFRAMES_ROWS\"] = 8"
   ]
  },
  {
   "attachments": {},
   "cell_type": "markdown",
   "metadata": {},
   "source": [
    "##### Data Cleaning"
   ]
  },
  {
   "cell_type": "code",
   "execution_count": 15,
   "metadata": {},
   "outputs": [
    {
     "data": {
      "text/html": [
       "<div><div style = \"float: left;\"><span>6606×15 DataFrame</span></div><div style = \"float: right;\"><span style = \"font-style: italic;\">6598 rows omitted</span></div><div style = \"clear: both;\"></div></div><div class = \"data-frame\" style = \"overflow-x: scroll;\"><table class = \"data-frame\" style = \"margin-bottom: 6px;\"><thead><tr class = \"header\"><th class = \"rowNumber\" style = \"font-weight: bold; text-align: right;\">Row</th><th style = \"text-align: left;\">PassengerId</th><th style = \"text-align: left;\">HomePlanet</th><th style = \"text-align: left;\">CryoSleep</th><th style = \"text-align: left;\">Destination</th><th style = \"text-align: left;\">Age</th><th style = \"text-align: left;\">VIP</th><th style = \"text-align: left;\">RoomService</th><th style = \"text-align: left;\">FoodCourt</th><th style = \"text-align: left;\">ShoppingMall</th><th style = \"text-align: left;\">Spa</th><th style = \"text-align: left;\">VRDeck</th><th style = \"text-align: left;\">Transported</th><th style = \"text-align: left;\">RoomDeck</th><th style = \"text-align: left;\">RoomSide</th><th style = \"text-align: left;\">TotalSpent</th></tr><tr class = \"subheader headerLastRow\"><th class = \"rowNumber\" style = \"font-weight: bold; text-align: right;\"></th><th title = \"String7\" style = \"text-align: left;\">String7</th><th title = \"String7\" style = \"text-align: left;\">String7</th><th title = \"Bool\" style = \"text-align: left;\">Bool</th><th title = \"String15\" style = \"text-align: left;\">String15</th><th title = \"Float64\" style = \"text-align: left;\">Float64</th><th title = \"Bool\" style = \"text-align: left;\">Bool</th><th title = \"Float64\" style = \"text-align: left;\">Float64</th><th title = \"Float64\" style = \"text-align: left;\">Float64</th><th title = \"Float64\" style = \"text-align: left;\">Float64</th><th title = \"Float64\" style = \"text-align: left;\">Float64</th><th title = \"Float64\" style = \"text-align: left;\">Float64</th><th title = \"Bool\" style = \"text-align: left;\">Bool</th><th title = \"CategoricalValue{String, UInt32}\" style = \"text-align: left;\">Cat…</th><th title = \"CategoricalValue{String, UInt32}\" style = \"text-align: left;\">Cat…</th><th title = \"Float64\" style = \"text-align: left;\">Float64</th></tr></thead><tbody><tr><td class = \"rowNumber\" style = \"font-weight: bold; text-align: right;\">1</td><td style = \"text-align: left;\">0001_01</td><td style = \"text-align: left;\">Europa</td><td style = \"text-align: right;\">false</td><td style = \"text-align: left;\">TRAPPIST-1e</td><td style = \"text-align: right;\">39.0</td><td style = \"text-align: right;\">false</td><td style = \"text-align: right;\">0.0</td><td style = \"text-align: right;\">0.0</td><td style = \"text-align: right;\">0.0</td><td style = \"text-align: right;\">0.0</td><td style = \"text-align: right;\">0.0</td><td style = \"text-align: right;\">false</td><td style = \"text-align: left;\">B</td><td style = \"text-align: left;\">P</td><td style = \"text-align: right;\">0.0</td></tr><tr><td class = \"rowNumber\" style = \"font-weight: bold; text-align: right;\">2</td><td style = \"text-align: left;\">0002_01</td><td style = \"text-align: left;\">Earth</td><td style = \"text-align: right;\">false</td><td style = \"text-align: left;\">TRAPPIST-1e</td><td style = \"text-align: right;\">24.0</td><td style = \"text-align: right;\">false</td><td style = \"text-align: right;\">109.0</td><td style = \"text-align: right;\">9.0</td><td style = \"text-align: right;\">25.0</td><td style = \"text-align: right;\">549.0</td><td style = \"text-align: right;\">44.0</td><td style = \"text-align: right;\">true</td><td style = \"text-align: left;\">F</td><td style = \"text-align: left;\">S</td><td style = \"text-align: right;\">736.0</td></tr><tr><td class = \"rowNumber\" style = \"font-weight: bold; text-align: right;\">3</td><td style = \"text-align: left;\">0003_01</td><td style = \"text-align: left;\">Europa</td><td style = \"text-align: right;\">false</td><td style = \"text-align: left;\">TRAPPIST-1e</td><td style = \"text-align: right;\">58.0</td><td style = \"text-align: right;\">true</td><td style = \"text-align: right;\">43.0</td><td style = \"text-align: right;\">3576.0</td><td style = \"text-align: right;\">0.0</td><td style = \"text-align: right;\">6715.0</td><td style = \"text-align: right;\">49.0</td><td style = \"text-align: right;\">false</td><td style = \"text-align: left;\">A</td><td style = \"text-align: left;\">S</td><td style = \"text-align: right;\">10383.0</td></tr><tr><td class = \"rowNumber\" style = \"font-weight: bold; text-align: right;\">4</td><td style = \"text-align: left;\">0003_02</td><td style = \"text-align: left;\">Europa</td><td style = \"text-align: right;\">false</td><td style = \"text-align: left;\">TRAPPIST-1e</td><td style = \"text-align: right;\">33.0</td><td style = \"text-align: right;\">false</td><td style = \"text-align: right;\">0.0</td><td style = \"text-align: right;\">1283.0</td><td style = \"text-align: right;\">371.0</td><td style = \"text-align: right;\">3329.0</td><td style = \"text-align: right;\">193.0</td><td style = \"text-align: right;\">false</td><td style = \"text-align: left;\">A</td><td style = \"text-align: left;\">S</td><td style = \"text-align: right;\">5176.0</td></tr><tr><td style = \"text-align: right;\">&vellip;</td><td style = \"text-align: right;\">&vellip;</td><td style = \"text-align: right;\">&vellip;</td><td style = \"text-align: right;\">&vellip;</td><td style = \"text-align: right;\">&vellip;</td><td style = \"text-align: right;\">&vellip;</td><td style = \"text-align: right;\">&vellip;</td><td style = \"text-align: right;\">&vellip;</td><td style = \"text-align: right;\">&vellip;</td><td style = \"text-align: right;\">&vellip;</td><td style = \"text-align: right;\">&vellip;</td><td style = \"text-align: right;\">&vellip;</td><td style = \"text-align: right;\">&vellip;</td><td style = \"text-align: right;\">&vellip;</td><td style = \"text-align: right;\">&vellip;</td><td style = \"text-align: right;\">&vellip;</td></tr><tr><td class = \"rowNumber\" style = \"font-weight: bold; text-align: right;\">6603</td><td style = \"text-align: left;\">9278_01</td><td style = \"text-align: left;\">Earth</td><td style = \"text-align: right;\">true</td><td style = \"text-align: left;\">PSO J318.5-22</td><td style = \"text-align: right;\">18.0</td><td style = \"text-align: right;\">false</td><td style = \"text-align: right;\">0.0</td><td style = \"text-align: right;\">0.0</td><td style = \"text-align: right;\">0.0</td><td style = \"text-align: right;\">0.0</td><td style = \"text-align: right;\">0.0</td><td style = \"text-align: right;\">false</td><td style = \"text-align: left;\">G</td><td style = \"text-align: left;\">S</td><td style = \"text-align: right;\">0.0</td></tr><tr><td class = \"rowNumber\" style = \"font-weight: bold; text-align: right;\">6604</td><td style = \"text-align: left;\">9279_01</td><td style = \"text-align: left;\">Earth</td><td style = \"text-align: right;\">false</td><td style = \"text-align: left;\">TRAPPIST-1e</td><td style = \"text-align: right;\">26.0</td><td style = \"text-align: right;\">false</td><td style = \"text-align: right;\">0.0</td><td style = \"text-align: right;\">0.0</td><td style = \"text-align: right;\">1872.0</td><td style = \"text-align: right;\">1.0</td><td style = \"text-align: right;\">0.0</td><td style = \"text-align: right;\">true</td><td style = \"text-align: left;\">G</td><td style = \"text-align: left;\">S</td><td style = \"text-align: right;\">1873.0</td></tr><tr><td class = \"rowNumber\" style = \"font-weight: bold; text-align: right;\">6605</td><td style = \"text-align: left;\">9280_01</td><td style = \"text-align: left;\">Europa</td><td style = \"text-align: right;\">false</td><td style = \"text-align: left;\">55 Cancri e</td><td style = \"text-align: right;\">32.0</td><td style = \"text-align: right;\">false</td><td style = \"text-align: right;\">0.0</td><td style = \"text-align: right;\">1049.0</td><td style = \"text-align: right;\">0.0</td><td style = \"text-align: right;\">353.0</td><td style = \"text-align: right;\">3235.0</td><td style = \"text-align: right;\">false</td><td style = \"text-align: left;\">E</td><td style = \"text-align: left;\">S</td><td style = \"text-align: right;\">4637.0</td></tr><tr><td class = \"rowNumber\" style = \"font-weight: bold; text-align: right;\">6606</td><td style = \"text-align: left;\">9280_02</td><td style = \"text-align: left;\">Europa</td><td style = \"text-align: right;\">false</td><td style = \"text-align: left;\">TRAPPIST-1e</td><td style = \"text-align: right;\">44.0</td><td style = \"text-align: right;\">false</td><td style = \"text-align: right;\">126.0</td><td style = \"text-align: right;\">4688.0</td><td style = \"text-align: right;\">0.0</td><td style = \"text-align: right;\">0.0</td><td style = \"text-align: right;\">12.0</td><td style = \"text-align: right;\">true</td><td style = \"text-align: left;\">E</td><td style = \"text-align: left;\">S</td><td style = \"text-align: right;\">4826.0</td></tr></tbody></table></div>"
      ],
      "text/latex": [
       "\\begin{tabular}{r|ccccccccc}\n",
       "\t& PassengerId & HomePlanet & CryoSleep & Destination & Age & VIP & RoomService & FoodCourt & \\\\\n",
       "\t\\hline\n",
       "\t& String7 & String7 & Bool & String15 & Float64 & Bool & Float64 & Float64 & \\\\\n",
       "\t\\hline\n",
       "\t1 & 0001\\_01 & Europa & 0 & TRAPPIST-1e & 39.0 & 0 & 0.0 & 0.0 & $\\dots$ \\\\\n",
       "\t2 & 0002\\_01 & Earth & 0 & TRAPPIST-1e & 24.0 & 0 & 109.0 & 9.0 & $\\dots$ \\\\\n",
       "\t3 & 0003\\_01 & Europa & 0 & TRAPPIST-1e & 58.0 & 1 & 43.0 & 3576.0 & $\\dots$ \\\\\n",
       "\t4 & 0003\\_02 & Europa & 0 & TRAPPIST-1e & 33.0 & 0 & 0.0 & 1283.0 & $\\dots$ \\\\\n",
       "\t5 & 0004\\_01 & Earth & 0 & TRAPPIST-1e & 16.0 & 0 & 303.0 & 70.0 & $\\dots$ \\\\\n",
       "\t6 & 0005\\_01 & Earth & 0 & PSO J318.5-22 & 44.0 & 0 & 0.0 & 483.0 & $\\dots$ \\\\\n",
       "\t7 & 0006\\_01 & Earth & 0 & TRAPPIST-1e & 26.0 & 0 & 42.0 & 1539.0 & $\\dots$ \\\\\n",
       "\t8 & 0007\\_01 & Earth & 0 & TRAPPIST-1e & 35.0 & 0 & 0.0 & 785.0 & $\\dots$ \\\\\n",
       "\t9 & 0008\\_01 & Europa & 1 & 55 Cancri e & 14.0 & 0 & 0.0 & 0.0 & $\\dots$ \\\\\n",
       "\t10 & 0008\\_03 & Europa & 0 & 55 Cancri e & 45.0 & 0 & 39.0 & 7295.0 & $\\dots$ \\\\\n",
       "\t11 & 0009\\_01 & Mars & 0 & TRAPPIST-1e & 32.0 & 0 & 73.0 & 0.0 & $\\dots$ \\\\\n",
       "\t12 & 0010\\_01 & Earth & 0 & TRAPPIST-1e & 48.0 & 0 & 719.0 & 1.0 & $\\dots$ \\\\\n",
       "\t13 & 0011\\_01 & Earth & 0 & TRAPPIST-1e & 28.0 & 0 & 8.0 & 974.0 & $\\dots$ \\\\\n",
       "\t14 & 0015\\_01 & Earth & 0 & 55 Cancri e & 24.0 & 0 & 0.0 & 1.0 & $\\dots$ \\\\\n",
       "\t15 & 0016\\_01 & Mars & 1 & TRAPPIST-1e & 45.0 & 0 & 0.0 & 0.0 & $\\dots$ \\\\\n",
       "\t16 & 0017\\_01 & Earth & 0 & TRAPPIST-1e & 0.0 & 0 & 0.0 & 0.0 & $\\dots$ \\\\\n",
       "\t17 & 0017\\_02 & Earth & 0 & 55 Cancri e & 14.0 & 0 & 412.0 & 0.0 & $\\dots$ \\\\\n",
       "\t18 & 0020\\_01 & Earth & 1 & TRAPPIST-1e & 1.0 & 0 & 0.0 & 0.0 & $\\dots$ \\\\\n",
       "\t19 & 0020\\_02 & Earth & 1 & 55 Cancri e & 49.0 & 0 & 0.0 & 0.0 & $\\dots$ \\\\\n",
       "\t20 & 0020\\_04 & Earth & 0 & TRAPPIST-1e & 10.0 & 0 & 0.0 & 0.0 & $\\dots$ \\\\\n",
       "\t21 & 0020\\_06 & Earth & 0 & TRAPPIST-1e & 7.0 & 0 & 0.0 & 0.0 & $\\dots$ \\\\\n",
       "\t22 & 0025\\_01 & Earth & 0 & TRAPPIST-1e & 15.0 & 0 & 0.0 & 225.0 & $\\dots$ \\\\\n",
       "\t23 & 0026\\_01 & Europa & 0 & 55 Cancri e & 34.0 & 0 & 22.0 & 6073.0 & $\\dots$ \\\\\n",
       "\t24 & 0028\\_01 & Mars & 0 & TRAPPIST-1e & 43.0 & 0 & 1125.0 & 0.0 & $\\dots$ \\\\\n",
       "\t$\\dots$ & $\\dots$ & $\\dots$ & $\\dots$ & $\\dots$ & $\\dots$ & $\\dots$ & $\\dots$ & $\\dots$ &  \\\\\n",
       "\\end{tabular}\n"
      ],
      "text/plain": [
       "\u001b[1m6606×15 DataFrame\u001b[0m\n",
       "\u001b[1m  Row \u001b[0m│\u001b[1m PassengerId \u001b[0m\u001b[1m HomePlanet \u001b[0m\u001b[1m CryoSleep \u001b[0m\u001b[1m Destination   \u001b[0m\u001b[1m Age     \u001b[0m\u001b[1m VIP   \u001b[0m\u001b[1m Roo\u001b[0m ⋯\n",
       "      │\u001b[90m String7     \u001b[0m\u001b[90m String7    \u001b[0m\u001b[90m Bool      \u001b[0m\u001b[90m String15      \u001b[0m\u001b[90m Float64 \u001b[0m\u001b[90m Bool  \u001b[0m\u001b[90m Flo\u001b[0m ⋯\n",
       "──────┼─────────────────────────────────────────────────────────────────────────\n",
       "    1 │ 0001_01      Europa          false  TRAPPIST-1e       39.0  false      ⋯\n",
       "    2 │ 0002_01      Earth           false  TRAPPIST-1e       24.0  false\n",
       "    3 │ 0003_01      Europa          false  TRAPPIST-1e       58.0   true\n",
       "    4 │ 0003_02      Europa          false  TRAPPIST-1e       33.0  false\n",
       "    5 │ 0004_01      Earth           false  TRAPPIST-1e       16.0  false      ⋯\n",
       "    6 │ 0005_01      Earth           false  PSO J318.5-22     44.0  false\n",
       "    7 │ 0006_01      Earth           false  TRAPPIST-1e       26.0  false\n",
       "    8 │ 0007_01      Earth           false  TRAPPIST-1e       35.0  false\n",
       "  ⋮   │      ⋮           ⋮           ⋮            ⋮           ⋮       ⋮        ⋱\n",
       " 6600 │ 9275_01      Europa          false  TRAPPIST-1e        0.0  false      ⋯\n",
       " 6601 │ 9275_02      Europa          false  TRAPPIST-1e       32.0  false\n",
       " 6602 │ 9276_01      Europa          false  55 Cancri e       41.0   true\n",
       " 6603 │ 9278_01      Earth            true  PSO J318.5-22     18.0  false\n",
       " 6604 │ 9279_01      Earth           false  TRAPPIST-1e       26.0  false      ⋯\n",
       " 6605 │ 9280_01      Europa          false  55 Cancri e       32.0  false\n",
       " 6606 │ 9280_02      Europa          false  TRAPPIST-1e       44.0  false\n",
       "\u001b[36m                                                 9 columns and 6591 rows omitted\u001b[0m"
      ]
     },
     "metadata": {},
     "output_type": "display_data"
    }
   ],
   "source": [
    "function processpassengerData(passengerData::DataFrame)::DataFrame\n",
    "    passengerData = select(passengerData, Not([:Name]))\n",
    "    passengerData.Cabin = coalesce.(passengerData.Cabin, \"//\")\n",
    "    passengerData.RoomDeck = [\n",
    "        String(deck[1]) for deck in split.(passengerData.Cabin, \"/\")\n",
    "    ] |> categorical\n",
    "    passengerData.RoomSide = [\n",
    "        String(deck[3]) for deck in split.(passengerData.Cabin, \"/\")\n",
    "    ] |> categorical\n",
    "    passengerData.TotalSpent = passengerData.RoomService + passengerData.FoodCourt + passengerData.ShoppingMall + passengerData.Spa + passengerData.VRDeck\n",
    "    passengerData = select(passengerData, Not(:Cabin))\n",
    "    return passengerData\n",
    "end\n",
    "\n",
    "passengerData = CSV.read(\"data/train.csv\", DataFrame) |>\n",
    "                dropmissing |>\n",
    "                processpassengerData"
   ]
  },
  {
   "attachments": {},
   "cell_type": "markdown",
   "metadata": {},
   "source": [
    "#### Exploration Analysis"
   ]
  },
  {
   "cell_type": "code",
   "execution_count": 14,
   "metadata": {},
   "outputs": [
    {
     "data": {
      "image/png": "[encoded data removed]"
     },
     "metadata": {},
     "output_type": "display_data"
    }
   ],
   "source": [
    "transported_deck = AOG.data(passengerData) *\n",
    "                   AOG.mapping(:RoomDeck, :TotalSpent, color=:Transported, dodge=:Transported, layout=:Destination) *\n",
    "                   AOG.expectation()\n",
    "AOG.draw(transported_deck)"
   ]
  },
  {
   "attachments": {},
   "cell_type": "markdown",
   "metadata": {},
   "source": [
    "##### Statistical Approach"
   ]
  },
  {
   "cell_type": "code",
   "execution_count": 80,
   "metadata": {},
   "outputs": [
    {
     "data": {
      "text/plain": [
       "0.7201029367241901"
      ]
     },
     "metadata": {},
     "output_type": "display_data"
    }
   ],
   "source": [
    "fn = @formula(Transported ~ VIP + CryoSleep + Age + RoomService)\n",
    "logitModel = glm(fn, passengerData, Bernoulli(), LogitLink())\n",
    "\n",
    "function measureAccuracy(model, passengerData::DataFrame)::Float64\n",
    "    predictions = GLM.predict(model, passengerData)\n",
    "    predictions = [\n",
    "        if x < 0.5\n",
    "            false\n",
    "        else\n",
    "            true\n",
    "        end for x in predictions\n",
    "    ]\n",
    "    prediction_df = DataFrame(y_actual=passengerData.Transported, y_predicted=predictions, prob_predicted=predictions)\n",
    "    prediction_df.correctly_classified = prediction_df.y_actual .== prediction_df.y_predicted\n",
    "    accuracy = mean(prediction_df.correctly_classified)\n",
    "\n",
    "    return accuracy\n",
    "\n",
    "end\n",
    "\n",
    "acc = measureAccuracy(logitModel, passengerData)"
   ]
  },
  {
   "attachments": {},
   "cell_type": "markdown",
   "metadata": {},
   "source": [
    "##### Machine Learning Approach"
   ]
  },
  {
   "cell_type": "code",
   "execution_count": 81,
   "metadata": {},
   "outputs": [
    {
     "name": "stderr",
     "output_type": "stream",
     "text": [
      "┌ Info: Training machine(DecisionTreeClassifier(max_depth = 0, …), …).\n",
      "└ @ MLJBase /Users/zachary.drake/.julia/packages/MLJBase/5cxU0/src/machines.jl:492\n"
     ]
    },
    {
     "data": {
      "text/plain": [
       "0.7885973763874874"
      ]
     },
     "metadata": {},
     "output_type": "display_data"
    }
   ],
   "source": [
    "passengerData = MLJ.coerce!(passengerData,\n",
    "    MLJ.autotype(passengerData)\n",
    ")\n",
    "\n",
    "y, X = MLJ.unpack(passengerData, ==(:Transported), !=([:PassengerID, :RoomService, :FoodCourt, :ShoppingMall, :Spa, :VRDeck]), colname -> true)\n",
    "train, test = MLJ.partition(eachindex(y), 0.7; shuffle=true)\n",
    "Tree = BetaML.DecisionTreeClassifier()\n",
    "mach = machine(Tree, X, y; scitype_check_level=0)\n",
    "MLJ.fit!(mach, rows=train)\n",
    "pred = MLJ.predict(mach, X[test, :])\n",
    "yhat = StatsBase.mode.(pred)\n",
    "MLJ.accuracy(yhat, y[test])\n"
   ]
  },
  {
   "attachments": {},
   "cell_type": "markdown",
   "metadata": {},
   "source": [
    "#### Predictions"
   ]
  },
  {
   "cell_type": "code",
   "execution_count": 82,
   "metadata": {},
   "outputs": [
    {
     "data": {
      "text/plain": [
       "\"output/submission.csv\""
      ]
     },
     "metadata": {},
     "output_type": "display_data"
    }
   ],
   "source": [
    "predictData = CSV.read(\"data/test.csv\", DataFrame) |>\n",
    "              dropmissing |>\n",
    "              processpassengerData\n",
    "\n",
    "pred = MLJ.predict(mach, predictData)\n",
    "predictData.Transported = StatsBase.mode.(pred)\n",
    "\n",
    "select!(predictData, :PassengerId, :Transported)\n",
    "\n",
    "CSV.write(\"output/submission.csv\", predictData)"
   ]
  }
 ],
 "metadata": {
  "kernelspec": {
   "display_name": "Julia 1.9.0",
   "language": "julia",
   "name": "julia-1.9"
  },
  "language_info": {
   "file_extension": ".jl",
   "mimetype": "application/julia",
   "name": "julia",
   "version": "1.9.0"
  },
  "orig_nbformat": 4
 },
 "nbformat": 4,
 "nbformat_minor": 2
}
