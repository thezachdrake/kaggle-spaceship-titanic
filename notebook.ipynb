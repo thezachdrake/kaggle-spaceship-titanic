{
 "cells": [
  {
   "cell_type": "code",
   "execution_count": 135,
   "metadata": {},
   "outputs": [
    {
     "data": {
      "text/plain": [
       "6"
      ]
     },
     "execution_count": 135,
     "metadata": {},
     "output_type": "execute_result"
    }
   ],
   "source": [
    "using DataFrames\n",
    "using CSV\n",
    "using GLM\n",
    "using CategoricalArrays\n",
    "using StatsKit\n",
    "ENV[\"DATAFRAMES_ROWS\"] = 6"
   ]
  },
  {
   "cell_type": "code",
   "execution_count": 136,
   "metadata": {},
   "outputs": [
    {
     "data": {
      "text/plain": [
       "measureAccuracy (generic function with 1 method)"
      ]
     },
     "execution_count": 136,
     "metadata": {},
     "output_type": "execute_result"
    }
   ],
   "source": [
    "function pipeline(data::DataFrame)::DataFrame\n",
    "    data = select(data, Not(:PassengerId))\n",
    "    data.RoomDeck = categorical([String(deck[1]) for deck in split.(data.Cabin, \"/\")])\n",
    "    data.RoomNum = categorical([String(deck[2]) for deck in split.(data.Cabin, \"/\")])\n",
    "    data.RoomSide = categorical([String(deck[3]) for deck in split.(data.Cabin, \"/\")])\n",
    "    data.TotalSpent = data.RoomService + data.FoodCourt + data.ShoppingMall + data.Spa + data.VRDeck\n",
    "    data = select(data, Not(:Cabin))\n",
    "    data = transform(data, names(data, AbstractString) .=> categorical, renamecols=false)\n",
    "\n",
    "    return data\n",
    "end\n",
    "\n",
    "function measureAccuracy(model, data::DataFrame)::Float64\n",
    "    predictions = predict(model, pipeline(data))\n",
    "    predictions = [\n",
    "        if x < 0.5\n",
    "            false\n",
    "        else\n",
    "            true\n",
    "        end for x in predictions\n",
    "    ]\n",
    "    prediction_df = DataFrame(y_actual=data.Transported, y_predicted=predictions, prob_predicted=predictions)\n",
    "    prediction_df.correctly_classified = prediction_df.y_actual .== prediction_df.y_predicted\n",
    "    accuracy = mean(prediction_df.correctly_classified)\n",
    "\n",
    "    return accuracy\n",
    "\n",
    "end"
   ]
  },
  {
   "cell_type": "code",
   "execution_count": 137,
   "metadata": {},
   "outputs": [
    {
     "data": {
      "text/html": [
       "<div><div style = \"float: left;\"><span>6606×14 DataFrame</span></div><div style = \"float: right;\"><span style = \"font-style: italic;\">6600 rows omitted</span></div><div style = \"clear: both;\"></div></div><div class = \"data-frame\" style = \"overflow-x: scroll;\"><table class = \"data-frame\" style = \"margin-bottom: 6px;\"><thead><tr class = \"header\"><th class = \"rowNumber\" style = \"font-weight: bold; text-align: right;\">Row</th><th style = \"text-align: left;\">PassengerId</th><th style = \"text-align: left;\">HomePlanet</th><th style = \"text-align: left;\">CryoSleep</th><th style = \"text-align: left;\">Cabin</th><th style = \"text-align: left;\">Destination</th><th style = \"text-align: left;\">Age</th><th style = \"text-align: left;\">VIP</th><th style = \"text-align: left;\">RoomService</th><th style = \"text-align: left;\">FoodCourt</th><th style = \"text-align: left;\">ShoppingMall</th><th style = \"text-align: left;\">Spa</th><th style = \"text-align: left;\">VRDeck</th><th style = \"text-align: left;\">Name</th><th style = \"text-align: left;\">Transported</th></tr><tr class = \"subheader headerLastRow\"><th class = \"rowNumber\" style = \"font-weight: bold; text-align: right;\"></th><th title = \"String7\" style = \"text-align: left;\">String7</th><th title = \"String7\" style = \"text-align: left;\">String7</th><th title = \"Bool\" style = \"text-align: left;\">Bool</th><th title = \"String15\" style = \"text-align: left;\">String15</th><th title = \"String15\" style = \"text-align: left;\">String15</th><th title = \"Float64\" style = \"text-align: left;\">Float64</th><th title = \"Bool\" style = \"text-align: left;\">Bool</th><th title = \"Float64\" style = \"text-align: left;\">Float64</th><th title = \"Float64\" style = \"text-align: left;\">Float64</th><th title = \"Float64\" style = \"text-align: left;\">Float64</th><th title = \"Float64\" style = \"text-align: left;\">Float64</th><th title = \"Float64\" style = \"text-align: left;\">Float64</th><th title = \"String31\" style = \"text-align: left;\">String31</th><th title = \"Bool\" style = \"text-align: left;\">Bool</th></tr></thead><tbody><tr><td class = \"rowNumber\" style = \"font-weight: bold; text-align: right;\">1</td><td style = \"text-align: left;\">0001_01</td><td style = \"text-align: left;\">Europa</td><td style = \"text-align: right;\">false</td><td style = \"text-align: left;\">B/0/P</td><td style = \"text-align: left;\">TRAPPIST-1e</td><td style = \"text-align: right;\">39.0</td><td style = \"text-align: right;\">false</td><td style = \"text-align: right;\">0.0</td><td style = \"text-align: right;\">0.0</td><td style = \"text-align: right;\">0.0</td><td style = \"text-align: right;\">0.0</td><td style = \"text-align: right;\">0.0</td><td style = \"text-align: left;\">Maham Ofracculy</td><td style = \"text-align: right;\">false</td></tr><tr><td class = \"rowNumber\" style = \"font-weight: bold; text-align: right;\">2</td><td style = \"text-align: left;\">0002_01</td><td style = \"text-align: left;\">Earth</td><td style = \"text-align: right;\">false</td><td style = \"text-align: left;\">F/0/S</td><td style = \"text-align: left;\">TRAPPIST-1e</td><td style = \"text-align: right;\">24.0</td><td style = \"text-align: right;\">false</td><td style = \"text-align: right;\">109.0</td><td style = \"text-align: right;\">9.0</td><td style = \"text-align: right;\">25.0</td><td style = \"text-align: right;\">549.0</td><td style = \"text-align: right;\">44.0</td><td style = \"text-align: left;\">Juanna Vines</td><td style = \"text-align: right;\">true</td></tr><tr><td class = \"rowNumber\" style = \"font-weight: bold; text-align: right;\">3</td><td style = \"text-align: left;\">0003_01</td><td style = \"text-align: left;\">Europa</td><td style = \"text-align: right;\">false</td><td style = \"text-align: left;\">A/0/S</td><td style = \"text-align: left;\">TRAPPIST-1e</td><td style = \"text-align: right;\">58.0</td><td style = \"text-align: right;\">true</td><td style = \"text-align: right;\">43.0</td><td style = \"text-align: right;\">3576.0</td><td style = \"text-align: right;\">0.0</td><td style = \"text-align: right;\">6715.0</td><td style = \"text-align: right;\">49.0</td><td style = \"text-align: left;\">Altark Susent</td><td style = \"text-align: right;\">false</td></tr><tr><td style = \"text-align: right;\">&vellip;</td><td style = \"text-align: right;\">&vellip;</td><td style = \"text-align: right;\">&vellip;</td><td style = \"text-align: right;\">&vellip;</td><td style = \"text-align: right;\">&vellip;</td><td style = \"text-align: right;\">&vellip;</td><td style = \"text-align: right;\">&vellip;</td><td style = \"text-align: right;\">&vellip;</td><td style = \"text-align: right;\">&vellip;</td><td style = \"text-align: right;\">&vellip;</td><td style = \"text-align: right;\">&vellip;</td><td style = \"text-align: right;\">&vellip;</td><td style = \"text-align: right;\">&vellip;</td><td style = \"text-align: right;\">&vellip;</td><td style = \"text-align: right;\">&vellip;</td></tr><tr><td class = \"rowNumber\" style = \"font-weight: bold; text-align: right;\">6604</td><td style = \"text-align: left;\">9279_01</td><td style = \"text-align: left;\">Earth</td><td style = \"text-align: right;\">false</td><td style = \"text-align: left;\">G/1500/S</td><td style = \"text-align: left;\">TRAPPIST-1e</td><td style = \"text-align: right;\">26.0</td><td style = \"text-align: right;\">false</td><td style = \"text-align: right;\">0.0</td><td style = \"text-align: right;\">0.0</td><td style = \"text-align: right;\">1872.0</td><td style = \"text-align: right;\">1.0</td><td style = \"text-align: right;\">0.0</td><td style = \"text-align: left;\">Fayey Connon</td><td style = \"text-align: right;\">true</td></tr><tr><td class = \"rowNumber\" style = \"font-weight: bold; text-align: right;\">6605</td><td style = \"text-align: left;\">9280_01</td><td style = \"text-align: left;\">Europa</td><td style = \"text-align: right;\">false</td><td style = \"text-align: left;\">E/608/S</td><td style = \"text-align: left;\">55 Cancri e</td><td style = \"text-align: right;\">32.0</td><td style = \"text-align: right;\">false</td><td style = \"text-align: right;\">0.0</td><td style = \"text-align: right;\">1049.0</td><td style = \"text-align: right;\">0.0</td><td style = \"text-align: right;\">353.0</td><td style = \"text-align: right;\">3235.0</td><td style = \"text-align: left;\">Celeon Hontichre</td><td style = \"text-align: right;\">false</td></tr><tr><td class = \"rowNumber\" style = \"font-weight: bold; text-align: right;\">6606</td><td style = \"text-align: left;\">9280_02</td><td style = \"text-align: left;\">Europa</td><td style = \"text-align: right;\">false</td><td style = \"text-align: left;\">E/608/S</td><td style = \"text-align: left;\">TRAPPIST-1e</td><td style = \"text-align: right;\">44.0</td><td style = \"text-align: right;\">false</td><td style = \"text-align: right;\">126.0</td><td style = \"text-align: right;\">4688.0</td><td style = \"text-align: right;\">0.0</td><td style = \"text-align: right;\">0.0</td><td style = \"text-align: right;\">12.0</td><td style = \"text-align: left;\">Propsh Hontichre</td><td style = \"text-align: right;\">true</td></tr></tbody></table></div>"
      ],
      "text/latex": [
       "\\begin{tabular}{r|ccccccccc}\n",
       "\t& PassengerId & HomePlanet & CryoSleep & Cabin & Destination & Age & VIP & RoomService & \\\\\n",
       "\t\\hline\n",
       "\t& String7 & String7 & Bool & String15 & String15 & Float64 & Bool & Float64 & \\\\\n",
       "\t\\hline\n",
       "\t1 & 0001\\_01 & Europa & 0 & B/0/P & TRAPPIST-1e & 39.0 & 0 & 0.0 & $\\dots$ \\\\\n",
       "\t2 & 0002\\_01 & Earth & 0 & F/0/S & TRAPPIST-1e & 24.0 & 0 & 109.0 & $\\dots$ \\\\\n",
       "\t3 & 0003\\_01 & Europa & 0 & A/0/S & TRAPPIST-1e & 58.0 & 1 & 43.0 & $\\dots$ \\\\\n",
       "\t4 & 0003\\_02 & Europa & 0 & A/0/S & TRAPPIST-1e & 33.0 & 0 & 0.0 & $\\dots$ \\\\\n",
       "\t5 & 0004\\_01 & Earth & 0 & F/1/S & TRAPPIST-1e & 16.0 & 0 & 303.0 & $\\dots$ \\\\\n",
       "\t6 & 0005\\_01 & Earth & 0 & F/0/P & PSO J318.5-22 & 44.0 & 0 & 0.0 & $\\dots$ \\\\\n",
       "\t7 & 0006\\_01 & Earth & 0 & F/2/S & TRAPPIST-1e & 26.0 & 0 & 42.0 & $\\dots$ \\\\\n",
       "\t8 & 0007\\_01 & Earth & 0 & F/3/S & TRAPPIST-1e & 35.0 & 0 & 0.0 & $\\dots$ \\\\\n",
       "\t9 & 0008\\_01 & Europa & 1 & B/1/P & 55 Cancri e & 14.0 & 0 & 0.0 & $\\dots$ \\\\\n",
       "\t10 & 0008\\_03 & Europa & 0 & B/1/P & 55 Cancri e & 45.0 & 0 & 39.0 & $\\dots$ \\\\\n",
       "\t11 & 0009\\_01 & Mars & 0 & F/1/P & TRAPPIST-1e & 32.0 & 0 & 73.0 & $\\dots$ \\\\\n",
       "\t12 & 0010\\_01 & Earth & 0 & G/1/S & TRAPPIST-1e & 48.0 & 0 & 719.0 & $\\dots$ \\\\\n",
       "\t13 & 0011\\_01 & Earth & 0 & F/2/P & TRAPPIST-1e & 28.0 & 0 & 8.0 & $\\dots$ \\\\\n",
       "\t14 & 0015\\_01 & Earth & 0 & F/4/P & 55 Cancri e & 24.0 & 0 & 0.0 & $\\dots$ \\\\\n",
       "\t15 & 0016\\_01 & Mars & 1 & F/5/P & TRAPPIST-1e & 45.0 & 0 & 0.0 & $\\dots$ \\\\\n",
       "\t16 & 0017\\_01 & Earth & 0 & G/0/P & TRAPPIST-1e & 0.0 & 0 & 0.0 & $\\dots$ \\\\\n",
       "\t17 & 0017\\_02 & Earth & 0 & F/6/P & 55 Cancri e & 14.0 & 0 & 412.0 & $\\dots$ \\\\\n",
       "\t18 & 0020\\_01 & Earth & 1 & E/0/S & TRAPPIST-1e & 1.0 & 0 & 0.0 & $\\dots$ \\\\\n",
       "\t19 & 0020\\_02 & Earth & 1 & E/0/S & 55 Cancri e & 49.0 & 0 & 0.0 & $\\dots$ \\\\\n",
       "\t20 & 0020\\_04 & Earth & 0 & E/0/S & TRAPPIST-1e & 10.0 & 0 & 0.0 & $\\dots$ \\\\\n",
       "\t21 & 0020\\_06 & Earth & 0 & E/0/S & TRAPPIST-1e & 7.0 & 0 & 0.0 & $\\dots$ \\\\\n",
       "\t22 & 0025\\_01 & Earth & 0 & F/6/S & TRAPPIST-1e & 15.0 & 0 & 0.0 & $\\dots$ \\\\\n",
       "\t23 & 0026\\_01 & Europa & 0 & C/0/P & 55 Cancri e & 34.0 & 0 & 22.0 & $\\dots$ \\\\\n",
       "\t24 & 0028\\_01 & Mars & 0 & F/8/P & TRAPPIST-1e & 43.0 & 0 & 1125.0 & $\\dots$ \\\\\n",
       "\t25 & 0030\\_01 & Earth & 0 & G/4/S & TRAPPIST-1e & 32.0 & 0 & 0.0 & $\\dots$ \\\\\n",
       "\t26 & 0031\\_01 & Mars & 0 & F/9/P & TRAPPIST-1e & 47.0 & 0 & 214.0 & $\\dots$ \\\\\n",
       "\t27 & 0031\\_02 & Mars & 0 & F/9/P & TRAPPIST-1e & 2.0 & 0 & 0.0 & $\\dots$ \\\\\n",
       "\t28 & 0034\\_01 & Europa & 1 & D/1/S & 55 Cancri e & 28.0 & 0 & 0.0 & $\\dots$ \\\\\n",
       "\t29 & 0035\\_01 & Mars & 0 & D/1/P & 55 Cancri e & 23.0 & 0 & 784.0 & $\\dots$ \\\\\n",
       "\t30 & 0038\\_01 & Earth & 0 & F/10/S & 55 Cancri e & 20.0 & 0 & 554.0 & $\\dots$ \\\\\n",
       "\t$\\dots$ & $\\dots$ & $\\dots$ & $\\dots$ & $\\dots$ & $\\dots$ & $\\dots$ & $\\dots$ & $\\dots$ &  \\\\\n",
       "\\end{tabular}\n"
      ],
      "text/plain": [
       "\u001b[1m6606×14 DataFrame\u001b[0m\n",
       "\u001b[1m  Row \u001b[0m│\u001b[1m PassengerId \u001b[0m\u001b[1m HomePlanet \u001b[0m\u001b[1m CryoSleep \u001b[0m\u001b[1m Cabin    \u001b[0m\u001b[1m Destination   \u001b[0m\u001b[1m Age     \u001b[0m\u001b[1m \u001b[0m ⋯\n",
       "      │\u001b[90m String7     \u001b[0m\u001b[90m String7    \u001b[0m\u001b[90m Bool      \u001b[0m\u001b[90m String15 \u001b[0m\u001b[90m String15      \u001b[0m\u001b[90m Float64 \u001b[0m\u001b[90m \u001b[0m ⋯\n",
       "──────┼─────────────────────────────────────────────────────────────────────────\n",
       "    1 │ 0001_01      Europa          false  B/0/P     TRAPPIST-1e       39.0   ⋯\n",
       "    2 │ 0002_01      Earth           false  F/0/S     TRAPPIST-1e       24.0\n",
       "    3 │ 0003_01      Europa          false  A/0/S     TRAPPIST-1e       58.0\n",
       "    4 │ 0003_02      Europa          false  A/0/S     TRAPPIST-1e       33.0\n",
       "    5 │ 0004_01      Earth           false  F/1/S     TRAPPIST-1e       16.0   ⋯\n",
       "    6 │ 0005_01      Earth           false  F/0/P     PSO J318.5-22     44.0\n",
       "    7 │ 0006_01      Earth           false  F/2/S     TRAPPIST-1e       26.0\n",
       "    8 │ 0007_01      Earth           false  F/3/S     TRAPPIST-1e       35.0\n",
       "    9 │ 0008_01      Europa           true  B/1/P     55 Cancri e       14.0   ⋯\n",
       "   10 │ 0008_03      Europa          false  B/1/P     55 Cancri e       45.0\n",
       "   11 │ 0009_01      Mars            false  F/1/P     TRAPPIST-1e       32.0\n",
       "  ⋮   │      ⋮           ⋮           ⋮         ⋮            ⋮           ⋮      ⋱\n",
       " 6597 │ 9270_01      Earth            true  G/1497/S  55 Cancri e       33.0\n",
       " 6598 │ 9272_01      Earth           false  G/1507/P  TRAPPIST-1e       26.0   ⋯\n",
       " 6599 │ 9272_02      Earth           false  F/1894/P  TRAPPIST-1e       21.0\n",
       " 6600 │ 9275_01      Europa          false  A/97/P    TRAPPIST-1e        0.0\n",
       " 6601 │ 9275_02      Europa          false  A/97/P    TRAPPIST-1e       32.0\n",
       " 6602 │ 9276_01      Europa          false  A/98/P    55 Cancri e       41.0   ⋯\n",
       " 6603 │ 9278_01      Earth            true  G/1499/S  PSO J318.5-22     18.0\n",
       " 6604 │ 9279_01      Earth           false  G/1500/S  TRAPPIST-1e       26.0\n",
       " 6605 │ 9280_01      Europa          false  E/608/S   55 Cancri e       32.0\n",
       " 6606 │ 9280_02      Europa          false  E/608/S   TRAPPIST-1e       44.0   ⋯\n",
       "\u001b[36m                                                 8 columns and 6585 rows omitted\u001b[0m"
      ]
     },
     "execution_count": 137,
     "metadata": {},
     "output_type": "execute_result"
    }
   ],
   "source": [
    "data = CSV.read(\"data/train.csv\", DataFrame) |> dropmissing"
   ]
  },
  {
   "cell_type": "code",
   "execution_count": 154,
   "metadata": {},
   "outputs": [
    {
     "data": {
      "text/plain": [
       "StatsModels.TableRegressionModel{GeneralizedLinearModel{GLM.GlmResp{Vector{Float64}, Normal{Float64}, IdentityLink}, GLM.DensePredChol{Float64, LinearAlgebra.CholeskyPivoted{Float64, Matrix{Float64}, Vector{Int64}}}}, Matrix{Float64}}\n",
       "\n",
       "Transported ~ 1 + HomePlanet + CryoSleep + RoomService + FoodCourt + ShoppingMall + Spa + VRDeck + RoomService & FoodCourt + RoomService & ShoppingMall + FoodCourt & ShoppingMall + RoomService & Spa + FoodCourt & Spa + ShoppingMall & Spa + RoomService & VRDeck + FoodCourt & VRDeck + ShoppingMall & VRDeck + Spa & VRDeck + RoomService & FoodCourt & ShoppingMall + RoomService & FoodCourt & Spa + RoomService & ShoppingMall & Spa + FoodCourt & ShoppingMall & Spa + RoomService & FoodCourt & VRDeck + RoomService & ShoppingMall & VRDeck + FoodCourt & ShoppingMall & VRDeck + RoomService & Spa & VRDeck + FoodCourt & Spa & VRDeck + ShoppingMall & Spa & VRDeck + RoomService & FoodCourt & ShoppingMall & Spa + RoomService & FoodCourt & ShoppingMall & VRDeck + RoomService & FoodCourt & Spa & VRDeck + RoomService & ShoppingMall & Spa & VRDeck + FoodCourt & ShoppingMall & Spa & VRDeck + RoomService & FoodCourt & ShoppingMall & Spa & VRDeck\n",
       "\n",
       "Coefficients:\n",
       "──────────────────────────────────────────────────────────────────────────────────────────────────────────────────────────────────\n",
       "                                                              Coef.     Std. Error       z  Pr(>|z|)      Lower 95%      Upper 95%\n",
       "──────────────────────────────────────────────────────────────────────────────────────────────────────────────────────────────────\n",
       "(Intercept)                                             0.0          NaN            NaN       NaN     NaN            NaN\n",
       "HomePlanet: Europa                                      0.0          NaN            NaN       NaN     NaN            NaN\n",
       "HomePlanet: Mars                                        0.0          NaN            NaN       NaN     NaN            NaN\n",
       "CryoSleep                                               0.0          NaN            NaN       NaN     NaN            NaN\n",
       "RoomService                                             0.0          NaN            NaN       NaN     NaN            NaN\n",
       "FoodCourt                                               0.0          NaN            NaN       NaN     NaN            NaN\n",
       "ShoppingMall                                            0.0          NaN            NaN       NaN     NaN            NaN\n",
       "Spa                                                     0.0          NaN            NaN       NaN     NaN            NaN\n",
       "VRDeck                                                  0.0          NaN            NaN       NaN     NaN            NaN\n",
       "RoomService & FoodCourt                                 0.0          NaN            NaN       NaN     NaN            NaN\n",
       "RoomService & ShoppingMall                              0.0          NaN            NaN       NaN     NaN            NaN\n",
       "FoodCourt & ShoppingMall                                0.0          NaN            NaN       NaN     NaN            NaN\n",
       "RoomService & Spa                                       0.0          NaN            NaN       NaN     NaN            NaN\n",
       "FoodCourt & Spa                                         0.0          NaN            NaN       NaN     NaN            NaN\n",
       "ShoppingMall & Spa                                      0.0          NaN            NaN       NaN     NaN            NaN\n",
       "RoomService & VRDeck                                    0.0          NaN            NaN       NaN     NaN            NaN\n",
       "FoodCourt & VRDeck                                      0.0          NaN            NaN       NaN     NaN            NaN\n",
       "ShoppingMall & VRDeck                                   0.0          NaN            NaN       NaN     NaN            NaN\n",
       "Spa & VRDeck                                            0.0          NaN            NaN       NaN     NaN            NaN\n",
       "RoomService & FoodCourt & ShoppingMall                  1.25098e-10    4.97289e-11    2.52    0.0119    2.76314e-11    2.22565e-10\n",
       "RoomService & FoodCourt & Spa                           4.72997e-12    5.0475e-12     0.94    0.3487   -5.16294e-12    1.46229e-11\n",
       "RoomService & ShoppingMall & Spa                        0.0          NaN            NaN       NaN     NaN            NaN\n",
       "FoodCourt & ShoppingMall & Spa                          1.89133e-11    8.78214e-12    2.15    0.0313    1.70059e-12    3.6126e-11\n",
       "RoomService & FoodCourt & VRDeck                        1.75106e-11    1.46627e-11    1.19    0.2324   -1.12278e-11    4.62491e-11\n",
       "RoomService & ShoppingMall & VRDeck                     1.6312e-12     3.53215e-11    0.05    0.9632   -6.75976e-11    7.086e-11\n",
       "FoodCourt & ShoppingMall & VRDeck                       2.65981e-11    1.2335e-11     2.16    0.0311    2.42204e-12    5.07742e-11\n",
       "RoomService & Spa & VRDeck                              1.17725e-12    1.29469e-11    0.09    0.9275   -2.41982e-11    2.65527e-11\n",
       "FoodCourt & Spa & VRDeck                                2.27166e-13    7.57298e-13    0.30    0.7642   -1.25711e-12    1.71144e-12\n",
       "ShoppingMall & Spa & VRDeck                            -1.0369e-12     6.7828e-12    -0.15    0.8785   -1.43309e-11    1.22571e-11\n",
       "RoomService & FoodCourt & ShoppingMall & Spa            2.25722e-15    1.16632e-14    0.19    0.8465   -2.06022e-14    2.51166e-14\n",
       "RoomService & FoodCourt & ShoppingMall & VRDeck         7.67881e-13    4.32408e-13    1.78    0.0758   -7.96229e-14    1.61539e-12\n",
       "RoomService & FoodCourt & Spa & VRDeck                 -1.49944e-14    1.4281e-14    -1.05    0.2937   -4.29847e-14    1.2996e-14\n",
       "RoomService & ShoppingMall & Spa & VRDeck               5.21064e-14    3.50099e-14    1.49    0.1367   -1.65118e-14    1.20725e-13\n",
       "FoodCourt & ShoppingMall & Spa & VRDeck                -7.3491e-15     3.69393e-15   -1.99    0.0466   -1.45891e-14   -1.09136e-16\n",
       "RoomService & FoodCourt & ShoppingMall & Spa & VRDeck  -1.55157e-16    7.55912e-17   -2.05    0.0401   -3.03313e-16   -7.00085e-18\n",
       "──────────────────────────────────────────────────────────────────────────────────────────────────────────────────────────────────"
      ]
     },
     "execution_count": 154,
     "metadata": {},
     "output_type": "execute_result"
    }
   ],
   "source": [
    "fn = @formula(Transported ~ HomePlanet + CryoSleep + ())\n",
    "model = glm(fn, pipeline(data), Normal(), IdentityLink())"
   ]
  },
  {
   "cell_type": "code",
   "execution_count": 155,
   "metadata": {},
   "outputs": [
    {
     "data": {
      "text/plain": [
       "0.4965183166818044"
      ]
     },
     "execution_count": 155,
     "metadata": {},
     "output_type": "execute_result"
    }
   ],
   "source": [
    "measureAccuracy(model, data)"
   ]
  }
 ],
 "metadata": {
  "kernelspec": {
   "display_name": "Julia 1.9.0",
   "language": "julia",
   "name": "julia-1.9"
  },
  "language_info": {
   "file_extension": ".jl",
   "mimetype": "application/julia",
   "name": "julia",
   "version": "1.9.0"
  },
  "orig_nbformat": 4
 },
 "nbformat": 4,
 "nbformat_minor": 2
}
