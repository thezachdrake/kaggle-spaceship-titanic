{
 "cells": [
  {
   "cell_type": "code",
   "execution_count": 77,
   "metadata": {},
   "outputs": [
    {
     "data": {
      "text/plain": [
       "8"
      ]
     },
     "metadata": {},
     "output_type": "display_data"
    }
   ],
   "source": [
    "using StatsKit\n",
    "using MLJ\n",
    "using AlgebraOfGraphics, CairoMakie\n",
    "import BetaML\n",
    "set_aog_theme!()\n",
    "ENV[\"DATAFRAMES_ROWS\"] = 8"
   ]
  },
  {
   "cell_type": "code",
   "execution_count": 89,
   "metadata": {},
   "outputs": [
    {
     "ename": "MethodError",
     "evalue": "MethodError: no method matching split(::Missing, ::String)\n\nClosest candidates are:\n  split(!Matched::T, ::Any; limit, keepempty) where T<:AbstractString\n   @ Base strings/util.jl:601\n",
     "output_type": "error",
     "traceback": [
      "MethodError: no method matching split(::Missing, ::String)\n",
      "\n",
      "Closest candidates are:\n",
      "  split(!Matched::T, ::Any; limit, keepempty) where T<:AbstractString\n",
      "   @ Base strings/util.jl:601\n",
      "\n",
      "\n",
      "Stacktrace:\n",
      "  [1] _broadcast_getindex_evalf\n",
      "    @ ./broadcast.jl:683 [inlined]\n",
      "  [2] _broadcast_getindex\n",
      "    @ ./broadcast.jl:656 [inlined]\n",
      "  [3] getindex\n",
      "    @ ./broadcast.jl:610 [inlined]\n",
      "  [4] macro expansion\n",
      "    @ ./broadcast.jl:974 [inlined]\n",
      "  [5] macro expansion\n",
      "    @ ./simdloop.jl:77 [inlined]\n",
      "  [6] copyto!\n",
      "    @ ./broadcast.jl:973 [inlined]\n",
      "  [7] copyto!\n",
      "    @ ./broadcast.jl:926 [inlined]\n",
      "  [8] copy\n",
      "    @ ./broadcast.jl:898 [inlined]\n",
      "  [9] materialize(bc::Base.Broadcast.Broadcasted{Base.Broadcast.DefaultArrayStyle{1}, Nothing, typeof(split), Tuple{Vector{Union{Missing, String15}}, Base.RefValue{String}}})\n",
      "    @ Base.Broadcast ./broadcast.jl:873\n",
      " [10] processpassengerData(passengerData::DataFrame)\n",
      "    @ Main ~/Repos/kaggle-spaceship-titanic/notebook.ipynb:3\n",
      " [11] |>(x::DataFrame, f::typeof(processpassengerData))\n",
      "    @ Base ./operators.jl:907\n",
      " [12] top-level scope\n",
      "    @ ~/Repos/kaggle-spaceship-titanic/notebook.ipynb:18"
     ]
    }
   ],
   "source": [
    "function processpassengerData(passengerData::DataFrame)::DataFrame\n",
    "    passengerData = select(passengerData, Not([:Name]))\n",
    "    passengerData.RoomDeck = [\n",
    "        String(deck[1]) for deck in split.(passengerData.Cabin, \"/\")\n",
    "    ] |> categorical\n",
    "    passengerData.RoomSide = [\n",
    "        String(deck[3]) for deck in split.(passengerData.Cabin, \"/\")\n",
    "    ] |> categorical\n",
    "    passengerData.TotalSpent = passengerData.RoomService + passengerData.FoodCourt + passengerData.ShoppingMall + passengerData.Spa + passengerData.VRDeck\n",
    "    passengerData = select(passengerData, Not(:Cabin))\n",
    "    return passengerData\n",
    "end\n",
    "\n",
    "passengerData = CSV.read(\"data/train.csv\", DataFrame) |>\n",
    "                processpassengerData"
   ]
  },
  {
   "cell_type": "code",
   "execution_count": 79,
   "metadata": {},
   "outputs": [
    {
     "ename": "MethodError",
     "evalue": "MethodError: findall(::AlgebraOfGraphics.var\"#8#9\", ::Vector{Any}) is ambiguous.\n\nCandidates:\n  findall(el::T, cont::Array{T}; returnTuple) where T\n    @ BetaML.Utils ~/.julia/packages/BetaML/V0tAN/src/Utils/Processing.jl:71\n  findall(testf::F, A::AbstractArray) where F<:Function\n    @ Base array.jl:2359\n  findall(testf::Function, A)\n    @ Base array.jl:2355\n\nPossible fix, define\n  findall(::F, ::Array{T}) where {F<:Function, T<:Function}\n",
     "output_type": "error",
     "traceback": [
      "MethodError: findall(::AlgebraOfGraphics.var\"#8#9\", ::Vector{Any}) is ambiguous.\n",
      "\n",
      "Candidates:\n",
      "  findall(el::T, cont::Array{T}; returnTuple) where T\n",
      "    @ BetaML.Utils ~/.julia/packages/BetaML/V0tAN/src/Utils/Processing.jl:71\n",
      "  findall(testf::F, A::AbstractArray) where F<:Function\n",
      "    @ Base array.jl:2359\n",
      "  findall(testf::Function, A)\n",
      "    @ Base array.jl:2355\n",
      "\n",
      "Possible fix, define\n",
      "  findall(::F, ::Array{T}) where {F<:Function, T<:Function}\n",
      "\n",
      "\n",
      "Stacktrace:\n",
      "  [1] AlgebraOfGraphics.Cycler(p::Vector{ColorTypes.RGB{Float64}})\n",
      "    @ AlgebraOfGraphics ~/.julia/packages/AlgebraOfGraphics/ujDNI/src/scales.jl:12\n",
      "  [2] apply_palette(p::Vector{ColorTypes.RGB{Float64}}, uv::Vector{Bool})\n",
      "    @ AlgebraOfGraphics ~/.julia/packages/AlgebraOfGraphics/ujDNI/src/scales.jl:28\n",
      "  [3] fitscale(c::AlgebraOfGraphics.CategoricalScale{Vector{Bool}, Nothing, Vector{ColorTypes.RGB{Float64}}})\n",
      "    @ AlgebraOfGraphics ~/.julia/packages/AlgebraOfGraphics/ujDNI/src/scales.jl:57\n",
      "  [4] map!(f::typeof(AlgebraOfGraphics.fitscale), out::Dictionaries.Dictionary{Union{Int64, Symbol}, Any}, d::Dictionaries.Dictionary{Union{Int64, Symbol}, Any})\n",
      "    @ Dictionaries ~/.julia/packages/Dictionaries/7aBxp/src/map.jl:57\n",
      "  [5] compute_axes_grid(d::Layer; axis::NamedTuple{(), Tuple{}}, palettes::NamedTuple{(), Tuple{}})\n",
      "    @ AlgebraOfGraphics ~/.julia/packages/AlgebraOfGraphics/ujDNI/src/algebra/layers.jl:124\n",
      "  [6] compute_axes_grid\n",
      "    @ ~/.julia/packages/AlgebraOfGraphics/ujDNI/src/algebra/layers.jl:110 [inlined]\n",
      "  [7] compute_axes_grid(fig::Figure, d::Layer; axis::NamedTuple{(), Tuple{}}, palettes::NamedTuple{(), Tuple{}})\n",
      "    @ AlgebraOfGraphics ~/.julia/packages/AlgebraOfGraphics/ujDNI/src/algebra/layers.jl:100\n",
      "  [8] compute_axes_grid\n",
      "    @ ~/.julia/packages/AlgebraOfGraphics/ujDNI/src/algebra/layers.jl:97 [inlined]\n",
      "  [9] #239\n",
      "    @ ~/.julia/packages/AlgebraOfGraphics/ujDNI/src/draw.jl:21 [inlined]\n",
      " [10] update\n",
      "    @ ~/.julia/packages/AlgebraOfGraphics/ujDNI/src/draw.jl:10 [inlined]\n",
      " [11] plot!(fig::Figure, d::Layer; axis::NamedTuple{(), Tuple{}}, palettes::NamedTuple{(), Tuple{}})\n",
      "    @ AlgebraOfGraphics ~/.julia/packages/AlgebraOfGraphics/ujDNI/src/draw.jl:21\n",
      " [12] plot!\n",
      "    @ ~/.julia/packages/AlgebraOfGraphics/ujDNI/src/draw.jl:16 [inlined]\n",
      " [13] (::AlgebraOfGraphics.var\"#243#244\"{NamedTuple{(), Tuple{}}, NamedTuple{(), Tuple{}}, NamedTuple{(), Tuple{}}, NamedTuple{(), Tuple{}}, NamedTuple{(), Tuple{}}, Layer})(f::Figure)\n",
      "    @ AlgebraOfGraphics ~/.julia/packages/AlgebraOfGraphics/ujDNI/src/draw.jl:48\n",
      " [14] update\n",
      "    @ ~/.julia/packages/AlgebraOfGraphics/ujDNI/src/draw.jl:10 [inlined]\n",
      " [15] #draw#242\n",
      "    @ ~/.julia/packages/AlgebraOfGraphics/ujDNI/src/draw.jl:47 [inlined]\n",
      " [16] draw(d::Layer)\n",
      "    @ AlgebraOfGraphics ~/.julia/packages/AlgebraOfGraphics/ujDNI/src/draw.jl:44\n",
      " [17] top-level scope\n",
      "    @ ~/Repos/kaggle-spaceship-titanic/notebook.ipynb:4"
     ]
    }
   ],
   "source": [
    "transported_deck = AlgebraOfGraphics.data(passengerData) *\n",
    "                   frequency() *\n",
    "                   mapping(:Transported, color=:VIP)\n",
    "draw(transported_deck)"
   ]
  },
  {
   "attachments": {},
   "cell_type": "markdown",
   "metadata": {},
   "source": [
    "#### Statistical Approach"
   ]
  },
  {
   "cell_type": "code",
   "execution_count": 80,
   "metadata": {},
   "outputs": [
    {
     "data": {
      "text/plain": [
       "0.7201029367241901"
      ]
     },
     "metadata": {},
     "output_type": "display_data"
    }
   ],
   "source": [
    "fn = @formula(Transported ~ VIP + CryoSleep + Age + RoomService)\n",
    "logitModel = glm(fn, passengerData, Bernoulli(), LogitLink())\n",
    "\n",
    "function measureAccuracy(model, passengerData::DataFrame)::Float64\n",
    "    predictions = GLM.predict(model, passengerData)\n",
    "    predictions = [\n",
    "        if x < 0.5\n",
    "            false\n",
    "        else\n",
    "            true\n",
    "        end for x in predictions\n",
    "    ]\n",
    "    prediction_df = DataFrame(y_actual=passengerData.Transported, y_predicted=predictions, prob_predicted=predictions)\n",
    "    prediction_df.correctly_classified = prediction_df.y_actual .== prediction_df.y_predicted\n",
    "    accuracy = mean(prediction_df.correctly_classified)\n",
    "\n",
    "    return accuracy\n",
    "\n",
    "end\n",
    "\n",
    "acc = measureAccuracy(logitModel, passengerData)"
   ]
  },
  {
   "attachments": {},
   "cell_type": "markdown",
   "metadata": {},
   "source": [
    "#### Machine Learning Approach"
   ]
  },
  {
   "cell_type": "code",
   "execution_count": 81,
   "metadata": {},
   "outputs": [
    {
     "name": "stderr",
     "output_type": "stream",
     "text": [
      "┌ Info: Training machine(DecisionTreeClassifier(max_depth = 0, …), …).\n",
      "└ @ MLJBase /Users/zachary.drake/.julia/packages/MLJBase/5cxU0/src/machines.jl:492\n"
     ]
    },
    {
     "data": {
      "text/plain": [
       "0.7885973763874874"
      ]
     },
     "metadata": {},
     "output_type": "display_data"
    }
   ],
   "source": [
    "passengerData = MLJ.coerce!(passengerData,\n",
    "    MLJ.autotype(passengerData)\n",
    ")\n",
    "\n",
    "y, X = MLJ.unpack(passengerData, ==(:Transported), !=([:PassengerID, :RoomService, :FoodCourt, :ShoppingMall, :Spa, :VRDeck]), colname -> true)\n",
    "train, test = MLJ.partition(eachindex(y), 0.7; shuffle=true)\n",
    "Tree = BetaML.DecisionTreeClassifier()\n",
    "mach = machine(Tree, X, y; scitype_check_level=0)\n",
    "MLJ.fit!(mach, rows=train)\n",
    "pred = MLJ.predict(mach, X[test, :])\n",
    "yhat = StatsBase.mode.(pred)\n",
    "MLJ.accuracy(yhat, y[test])\n"
   ]
  },
  {
   "attachments": {},
   "cell_type": "markdown",
   "metadata": {},
   "source": [
    "#### Predictions"
   ]
  },
  {
   "cell_type": "code",
   "execution_count": 82,
   "metadata": {},
   "outputs": [
    {
     "data": {
      "text/plain": [
       "\"output/submission.csv\""
      ]
     },
     "metadata": {},
     "output_type": "display_data"
    }
   ],
   "source": [
    "predictData = CSV.read(\"data/test.csv\", DataFrame) |>\n",
    "              dropmissing |>\n",
    "              processpassengerData\n",
    "\n",
    "pred = MLJ.predict(mach, predictData)\n",
    "predictData.Transported = StatsBase.mode.(pred)\n",
    "\n",
    "select!(predictData, :PassengerId, :Transported)\n",
    "\n",
    "CSV.write(\"output/submission.csv\", predictData)"
   ]
  },
  {
   "cell_type": "code",
   "execution_count": 84,
   "metadata": {},
   "outputs": [
    {
     "data": {
      "text/html": [
       "<div><div style = \"float: left;\"><span>3281×2 DataFrame</span></div><div style = \"float: right;\"><span style = \"font-style: italic;\">3273 rows omitted</span></div><div style = \"clear: both;\"></div></div><div class = \"data-frame\" style = \"overflow-x: scroll;\"><table class = \"data-frame\" style = \"margin-bottom: 6px;\"><thead><tr class = \"header\"><th class = \"rowNumber\" style = \"font-weight: bold; text-align: right;\">Row</th><th style = \"text-align: left;\">PassengerId</th><th style = \"text-align: left;\">Transported</th></tr><tr class = \"subheader headerLastRow\"><th class = \"rowNumber\" style = \"font-weight: bold; text-align: right;\"></th><th title = \"String7\" style = \"text-align: left;\">String7</th><th title = \"CategoricalValue{Bool, UInt32}\" style = \"text-align: left;\">Cat…</th></tr></thead><tbody><tr><td class = \"rowNumber\" style = \"font-weight: bold; text-align: right;\">1</td><td style = \"text-align: left;\">0013_01</td><td style = \"text-align: left;\">true</td></tr><tr><td class = \"rowNumber\" style = \"font-weight: bold; text-align: right;\">2</td><td style = \"text-align: left;\">0018_01</td><td style = \"text-align: left;\">false</td></tr><tr><td class = \"rowNumber\" style = \"font-weight: bold; text-align: right;\">3</td><td style = \"text-align: left;\">0019_01</td><td style = \"text-align: left;\">true</td></tr><tr><td class = \"rowNumber\" style = \"font-weight: bold; text-align: right;\">4</td><td style = \"text-align: left;\">0021_01</td><td style = \"text-align: left;\">true</td></tr><tr><td style = \"text-align: right;\">&vellip;</td><td style = \"text-align: right;\">&vellip;</td><td style = \"text-align: right;\">&vellip;</td></tr><tr><td class = \"rowNumber\" style = \"font-weight: bold; text-align: right;\">3278</td><td style = \"text-align: left;\">9265_01</td><td style = \"text-align: left;\">true</td></tr><tr><td class = \"rowNumber\" style = \"font-weight: bold; text-align: right;\">3279</td><td style = \"text-align: left;\">9266_01</td><td style = \"text-align: left;\">true</td></tr><tr><td class = \"rowNumber\" style = \"font-weight: bold; text-align: right;\">3280</td><td style = \"text-align: left;\">9266_02</td><td style = \"text-align: left;\">true</td></tr><tr><td class = \"rowNumber\" style = \"font-weight: bold; text-align: right;\">3281</td><td style = \"text-align: left;\">9277_01</td><td style = \"text-align: left;\">true</td></tr></tbody></table></div>"
      ],
      "text/latex": [
       "\\begin{tabular}{r|cc}\n",
       "\t& PassengerId & Transported\\\\\n",
       "\t\\hline\n",
       "\t& String7 & Cat…\\\\\n",
       "\t\\hline\n",
       "\t1 & 0013\\_01 & true \\\\\n",
       "\t2 & 0018\\_01 & false \\\\\n",
       "\t3 & 0019\\_01 & true \\\\\n",
       "\t4 & 0021\\_01 & true \\\\\n",
       "\t5 & 0023\\_01 & false \\\\\n",
       "\t6 & 0027\\_01 & true \\\\\n",
       "\t7 & 0032\\_01 & true \\\\\n",
       "\t8 & 0032\\_02 & true \\\\\n",
       "\t9 & 0033\\_01 & true \\\\\n",
       "\t10 & 0037\\_01 & false \\\\\n",
       "\t11 & 0040\\_02 & false \\\\\n",
       "\t12 & 0042\\_01 & false \\\\\n",
       "\t13 & 0046\\_01 & false \\\\\n",
       "\t14 & 0046\\_03 & false \\\\\n",
       "\t15 & 0047\\_01 & true \\\\\n",
       "\t16 & 0048\\_01 & true \\\\\n",
       "\t17 & 0054\\_01 & true \\\\\n",
       "\t18 & 0054\\_02 & true \\\\\n",
       "\t19 & 0054\\_03 & false \\\\\n",
       "\t20 & 0055\\_01 & false \\\\\n",
       "\t21 & 0057\\_01 & false \\\\\n",
       "\t22 & 0059\\_01 & true \\\\\n",
       "\t23 & 0060\\_01 & false \\\\\n",
       "\t24 & 0063\\_01 & true \\\\\n",
       "\t$\\dots$ & $\\dots$ & $\\dots$ \\\\\n",
       "\\end{tabular}\n"
      ],
      "text/plain": [
       "\u001b[1m3281×2 DataFrame\u001b[0m\n",
       "\u001b[1m  Row \u001b[0m│\u001b[1m PassengerId \u001b[0m\u001b[1m Transported \u001b[0m\n",
       "      │\u001b[90m String7     \u001b[0m\u001b[90m Cat…        \u001b[0m\n",
       "──────┼──────────────────────────\n",
       "    1 │ 0013_01      true\n",
       "    2 │ 0018_01      false\n",
       "    3 │ 0019_01      true\n",
       "    4 │ 0021_01      true\n",
       "    5 │ 0023_01      false\n",
       "    6 │ 0027_01      true\n",
       "    7 │ 0032_01      true\n",
       "    8 │ 0032_02      true\n",
       "  ⋮   │      ⋮            ⋮\n",
       " 3275 │ 9258_01      true\n",
       " 3276 │ 9262_01      false\n",
       " 3277 │ 9263_01      true\n",
       " 3278 │ 9265_01      true\n",
       " 3279 │ 9266_01      true\n",
       " 3280 │ 9266_02      true\n",
       " 3281 │ 9277_01      true\n",
       "\u001b[36m                3266 rows omitted\u001b[0m"
      ]
     },
     "metadata": {},
     "output_type": "display_data"
    }
   ],
   "source": [
    "predictData"
   ]
  }
 ],
 "metadata": {
  "kernelspec": {
   "display_name": "Julia 1.9.0",
   "language": "julia",
   "name": "julia-1.9"
  },
  "language_info": {
   "file_extension": ".jl",
   "mimetype": "application/julia",
   "name": "julia",
   "version": "1.9.0"
  },
  "orig_nbformat": 4
 },
 "nbformat": 4,
 "nbformat_minor": 2
}
